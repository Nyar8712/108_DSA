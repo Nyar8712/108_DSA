{
 "cells": [
  {
   "cell_type": "markdown",
   "metadata": {},
   "source": [
    "    有關於快速排序，我先去找書讀以理解其排序方式：\n",
    "    1. 採用個別擊破(Divide-and-Conquer)的原理來進行，將資料先做分群(partition)\n",
    "       ，再分別對兩群資料做處理。\n",
    "    2. partition的做法：\n",
    "        (1) 從資料值裡面，挑一個基準點(pivot)。\n",
    "        (2) 將所有資料值與pivot去做比較，小於pivot的值歸類在一群，大於的則歸類在另一群。\n",
    "        (3) 把pivot置放在兩群中間，如此資料值會排成「小於pivot的群」+pivot+「大於pivot的群」。\n",
    "        (4) 接下來，對兩群資料本身也重複做(1)~(3)，直至全部資料值排序完成。"
   ]
  },
  {
   "cell_type": "code",
   "execution_count": 24,
   "metadata": {},
   "outputs": [],
   "source": [
    "import random                   \n",
    "def QuickSort(alist):\n",
    "    if len(alist) <= 1:    #測值只有一個或無資料值\n",
    "        return alist\n",
    "    left = []             #先建出三個空串列\n",
    "    mid = []\n",
    "    right = []\n",
    "    pivot = random.choice(alist)    #從alist測值中隨機挑選一個值做為基準點\n",
    "    print(pivot)                    #將每次分群時挑選的pivot印出\n",
    "    for element in alist:           #開始挑值來進行分群\n",
    "        if element == pivot:            #將測值分成三群\n",
    "            mid.append(element)\n",
    "        elif element < pivot:\n",
    "            left.append(element)\n",
    "        else:\n",
    "            right.append(element)\n",
    "            \n",
    "    return QuickSort(left) + mid + QuickSort(right)  #最後對left和right兩群重複進行排序"
   ]
  },
  {
   "cell_type": "markdown",
   "metadata": {},
   "source": [
    "    這邊就開始做排序了，根據我在老師提供的程式碼和閱讀書得到的了解，基準點可以任意挑選不受限制，所以我先import random套件進來，做隨機選資料值。我打算用陣列來做，因此先建了三個list，然後把不需要排序的可能先找出來，也就是測值僅有一筆或根本沒資料時，這時就直接回傳測值內容就好了。"
   ]
  },
  {
   "cell_type": "markdown",
   "metadata": {},
   "source": [
    "    用判斷式來進行分群，當測值小於基準時會被加入left中，大於則會加入right，相等的值加入mid。如此一來，在迴圈進行完後，會得到三組群，如同上面partition第(3)所說的\"小於基準值的群\"+\"等於基準值的群\"+\"大於基準值的群\"，接下來只要再對left和right反覆做相同的事情，不斷分群然後排序，直到全部排序完成，在將這三個list內的值回傳，就完成快速排序了。"
   ]
  },
  {
   "cell_type": "code",
   "execution_count": 25,
   "metadata": {},
   "outputs": [
    {
     "name": "stdout",
     "output_type": "stream",
     "text": [
      "7\n",
      "91\n",
      "12\n",
      "23\n"
     ]
    },
    {
     "data": {
      "text/plain": [
       "[0, 7, 7, 7, 12, 14, 23, 54, 91]"
      ]
     },
     "execution_count": 25,
     "metadata": {},
     "output_type": "execute_result"
    }
   ],
   "source": [
    "alist= [23,14,7,91,0,7,12,54,7]\n",
    "QuickSort(alist)"
   ]
  },
  {
   "cell_type": "markdown",
   "metadata": {},
   "source": [
    "    以一筆測值為例"
   ]
  }
 ],
 "metadata": {
  "kernelspec": {
   "display_name": "Python 3",
   "language": "python",
   "name": "python3"
  },
  "language_info": {
   "codemirror_mode": {
    "name": "ipython",
    "version": 3
   },
   "file_extension": ".py",
   "mimetype": "text/x-python",
   "name": "python",
   "nbconvert_exporter": "python",
   "pygments_lexer": "ipython3",
   "version": "3.7.1"
  }
 },
 "nbformat": 4,
 "nbformat_minor": 2
}
